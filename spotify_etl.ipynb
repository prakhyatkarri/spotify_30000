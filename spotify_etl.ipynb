{
 "cells": [
  {
   "cell_type": "markdown",
   "metadata": {},
   "source": [
    "Header\n",
    "track_id,track_name,track_artist,track_popularity,track_album_id,track_album_name,track_album_release_date,playlist_name,playlist_id,playlist_genre,playlist_subgenre,danceability,energy,key,loudness,mode,speechiness,acousticness,instrumentalness,liveness,valence,tempo,duration_ms\n"
   ]
  },
  {
   "cell_type": "code",
   "execution_count": 83,
   "metadata": {},
   "outputs": [],
   "source": [
    "CREATE_SCHEMA = \"CREATE SCHEMA Songs;\""
   ]
  },
  {
   "cell_type": "code",
   "execution_count": 84,
   "metadata": {},
   "outputs": [],
   "source": [
    "CREATE_TABLE_ARTIST = \"CREATE TABLE Songs.Artist ( \\\n",
    "    artist_name varchar(100) not null, \\\n",
    "    PRIMARY KEY (artist_name) \\\n",
    ");\"\n",
    "\n",
    "CREATE_TABLE_ALBUM = \"CREATE TABLE Songs.Album ( \\\n",
    "    album_id varchar(30) not null, \\\n",
    "    album_name varchar(100) not null, \\\n",
    "    album_release_date date, \\\n",
    "    PRIMARY KEY (album_id) \\\n",
    ");\"\n",
    "\n",
    "CREATE_TABLE_GENRE = \"CREATE TABLE Songs.Genre ( \\\n",
    "    genre_name varchar(30) not null, \\\n",
    "    PRIMARY KEY (genre_name) \\\n",
    ");\"\n",
    "\n",
    "CREATE_TABLE_PLAYLIST = \"CREATE TABLE Songs.Playlist ( \\\n",
    "    playlist_id varchar(30) not null, \\\n",
    "    playlist_name varchar(100) not null, \\\n",
    "    playlist_genre varchar(30) not null, \\\n",
    "    playlist_subgenre varchar(30) not null, \\\n",
    "    PRIMARY KEY (playlist_id), \\\n",
    "    CONSTRAINT FK_Track_Genre FOREIGN KEY (playlist_genre) REFERENCES Songs.Genre (genre_name), \\\n",
    "    CONSTRAINT FK_Track_SubGenre FOREIGN KEY (playlist_subgenre) REFERENCES Songs.Genre (genre_name) \\\n",
    ");\"\n",
    "\n",
    "CREATE_TABLE_TRACK = \"CREATE TABLE Songs.Track ( \\\n",
    "    track_id varchar(30) not null, \\\n",
    "    track_name varchar(100) not null, \\\n",
    "    track_artist varchar(100) not null, \\\n",
    "    track_popularity decimal(2), \\\n",
    "    track_album_id varchar(30), \\\n",
    "    playlist_id varchar(30), \\\n",
    "    danceability decimal(2,3), \\\n",
    "    energy decimal(2,3), \\\n",
    "    key decimal(2), \\\n",
    "    loudness decimal(2,4), \\\n",
    "    mode numeric(1), \\\n",
    "    speechiness decimal(2,5), \\\n",
    "    acousticness decimal(2,5), \\\n",
    "    instrumentalness varchar(10), \\\n",
    "    liveness decimal(2,5), \\\n",
    "    valence decimal(2,4), \\\n",
    "    tempo decimal(3,4), \\\n",
    "    duration_ms numeric(10), \\\n",
    "    PRIMARY KEY (track_id), \\\n",
    "    CONSTRAINT FK_Track_Artist FOREIGN KEY (track_artist) REFERENCES Songs.Artist (artist_name), \\\n",
    "    CONSTRAINT FK_Track_AlbumID FOREIGN KEY (track_album_id) REFERENCES Songs.Album (album_id), \\\n",
    "    CONSTRAINT FK_Track_PlaylistID FOREIGN KEY (playlist_id) REFERENCES Songs.Playlist (playlist_id) \\\n",
    ");\""
   ]
  },
  {
   "cell_type": "code",
   "execution_count": 85,
   "metadata": {},
   "outputs": [
    {
     "name": "stdout",
     "output_type": "stream",
     "text": [
      "Requirement already satisfied: psycopg2 in c:\\users\\prakh\\appdata\\local\\programs\\python\\python311\\lib\\site-packages (2.9.9)\n",
      "Note: you may need to restart the kernel to use updated packages.\n"
     ]
    },
    {
     "name": "stderr",
     "output_type": "stream",
     "text": [
      "\n",
      "[notice] A new release of pip available: 22.3 -> 23.3.1\n",
      "[notice] To update, run: python.exe -m pip install --upgrade pip\n"
     ]
    }
   ],
   "source": [
    "pip install psycopg2"
   ]
  },
  {
   "cell_type": "code",
   "execution_count": 86,
   "metadata": {},
   "outputs": [
    {
     "name": "stdout",
     "output_type": "stream",
     "text": [
      "Connection Successful !!\n"
     ]
    }
   ],
   "source": [
    "from psycopg2 import connect\n",
    "\n",
    "HOST = 'localhost' # since postgres runs on local workspace in Docker\n",
    "USERNAME = \"postgres\"\n",
    "PASSWORD = \"postgres\"\n",
    "DATABASE = 'postgres'\n",
    "CONNECTION_STRING = f\"dbname='{DATABASE}' host='{HOST}' user='{USERNAME}' password='{PASSWORD}'\"\n",
    " \n",
    "connection = connect(CONNECTION_STRING)\n",
    "\n",
    "if connection is not None and connection.status == 1:\n",
    "    print('Connection Successful !!')\n",
    "else:\n",
    "    print(\"Connection Failed (X)\")\n",
    "\n",
    "cursor = connection.cursor() # we will use cursor for all DB operations"
   ]
  },
  {
   "cell_type": "code",
   "execution_count": 87,
   "metadata": {},
   "outputs": [],
   "source": [
    "with open(\"raw_schema.sql\", encoding=\"utf-8\", mode=\"r\") as schema:\n",
    "    cursor.execute(schema.read())\n",
    "    connection.commit()"
   ]
  },
  {
   "cell_type": "code",
   "execution_count": 88,
   "metadata": {},
   "outputs": [
    {
     "data": {
      "text/plain": [
       "'track_id,track_name,track_artist,track_popularity,track_album_id,track_album_name,track_album_release_date,playlist_name,playlist_id,playlist_genre,playlist_subgenre,danceability,energy,key,loudness,mode,speechiness,acousticness,instrumentalness,liveness,valence,tempo,duration_ms\\n'"
      ]
     },
     "execution_count": 88,
     "metadata": {},
     "output_type": "execute_result"
    }
   ],
   "source": [
    "file_path = \"spotify.csv\"\n",
    "lines = []\n",
    "\n",
    "with open(file_path, encoding=\"utf-8\", mode=\"r\") as file:\n",
    "    lines = file.readlines()\n",
    "\n",
    "lines.pop(0) # Removing header"
   ]
  },
  {
   "cell_type": "code",
   "execution_count": 89,
   "metadata": {},
   "outputs": [],
   "source": [
    "class Album:\n",
    "    album_id: str\n",
    "    album_name: str\n",
    "    album_release_date: str\n",
    "\n",
    "    def __init__(self, id, name=None, release_date=None):\n",
    "        self.album_id = id\n",
    "        self.album_name = name\n",
    "        self.album_release_date = release_date\n",
    "\n",
    "class Artist:\n",
    "    artist: str\n",
    "\n",
    "    def __init__(self, artist):\n",
    "        self.artist = artist\n",
    "        \n",
    "\n",
    "class Genre:\n",
    "    genre: str\n",
    "\n",
    "    def __init__(self, genre):\n",
    "        self.genre = genre\n",
    "    \n",
    "\n",
    "class Playlist:\n",
    "    playlist_id: str\n",
    "    playlist_name: str\n",
    "    playlist_genre: Genre\n",
    "    playlist_subgenre: Genre\n",
    "\n",
    "    def __init__(self, id, name = None, genre = None, subgenre = None):\n",
    "        self.playlist_id = id\n",
    "        self.playlist_name = name\n",
    "        self.playlist_genre = genre\n",
    "        self.playlist_subgenre = subgenre\n",
    "    \n",
    "class Track:\n",
    "    track_id: str\n",
    "    track_name: str\n",
    "    track_popularity: str\n",
    "    danceability: str\n",
    "    energy: str\n",
    "    key: str\n",
    "    loudness: str\n",
    "    mode: str\n",
    "    speechiness: str\n",
    "    acousticness: str\n",
    "    instrumentalness: str\n",
    "    liveness: str\n",
    "    valence: str\n",
    "    tempo: str\n",
    "    duration_ms: str\n",
    "    album: Album\n",
    "    artist: Artist\n",
    "    playlist: Playlist\n",
    "\n",
    "    def __init__(self, id, name=None, popularity = None, danceability = None, energy = None, key= None, loudness = None, \\\n",
    "                 mode = None, speechiness = None,  acousticness=None, instrumentalness=None, \\\n",
    "                    liveness=None, valence=None, tempo=None, duration_ms=None,  album=None, artist = None, playlist = None):\n",
    "        self.track_id = id\n",
    "        self.track_name = name\n",
    "        self.track_popularity = popularity\n",
    "        self.danceability = danceability\n",
    "        self.energy = energy\n",
    "        self.key = key\n",
    "        self.loudness = loudness\n",
    "        self.mode = mode\n",
    "        self.speechiness = speechiness\n",
    "        self.acousticness = acousticness\n",
    "        self.instrumentalness = instrumentalness\n",
    "        self.liveness = liveness\n",
    "        self.valence = valence\n",
    "        self.tempo = tempo\n",
    "        self.duration_ms = duration_ms\n",
    "\n",
    "    def set_album(self, album:Album):\n",
    "        self.album = album\n",
    "\n",
    "    \n",
    "    def set_artist(self, artist:Artist):\n",
    "        self.artist = artist\n",
    "\n",
    "    \n",
    "    def set_playlist(self, playlist:Playlist):\n",
    "        self.playlist = playlist\n"
   ]
  },
  {
   "cell_type": "code",
   "execution_count": 90,
   "metadata": {},
   "outputs": [],
   "source": [
    "def get_album_from_line(line):\n",
    "    row = line.split(',')\n",
    "    return Album(row[4], row[5], row[6])\n",
    "\n",
    "\n",
    "def get_artist_from_line(line):\n",
    "    row = line.split(',')\n",
    "    return Artist(row[2])\n",
    "\n",
    "\n",
    "def get_genre_from_line(line):\n",
    "    row = line.split(',')\n",
    "    return Genre(row[9])\n",
    "\n",
    "\n",
    "def get_subgenre_from_line(line):\n",
    "    row = line.split(',')\n",
    "    return Genre(row[10])\n",
    "\n",
    "\n",
    "\n",
    "def get_playlist_from_line(line):\n",
    "    row = line.split(',')\n",
    "    return Playlist(id=row[7], name=row[8], genre=get_genre_from_line(line), subgenre=get_subgenre_from_line(line))\n",
    "\n",
    "\n",
    "def get_track_from_line(line):\n",
    "    row = line.split(',')\n",
    "    track = Track(id=row[0], name=row[1], popularity=row[3], danceability=row[11], energy=row[12], key = row[13], loudness=row[14], \\\n",
    "                 mode=row[15], speechiness=row[16], acousticness=row[17], instrumentalness=row[18], \\\n",
    "                    liveness=row[19], valence=row[20], tempo=row[21], duration_ms=row[22] )\n",
    "    track.set_album(get_album_from_line(line))\n",
    "    track.set_artist(get_artist_from_line(line))\n",
    "    track.set_playlist(get_playlist_from_line(line))\n",
    "    return track\n"
   ]
  },
  {
   "cell_type": "code",
   "execution_count": 91,
   "metadata": {},
   "outputs": [],
   "source": [
    "albums = set()\n",
    "artists = set()\n",
    "genres = set()\n",
    "playlists = set()\n",
    "tracks = set()\n",
    "albums_to_save = []\n",
    "artists_to_save = []\n",
    "genres_to_save = []\n",
    "playlists_to_save = []\n",
    "tracks_to_save = []\n",
    "\n",
    "\n",
    "for line in lines:\n",
    "    album = get_album_from_line(line)\n",
    "\n",
    "    if album.album_id not in albums:\n",
    "        albums.add(album.album_id)\n",
    "        albums_to_save.append(album)\n",
    "\n",
    "    artist = get_artist_from_line(line)\n",
    "\n",
    "    if artist.artist not in artists:\n",
    "        artists.add(artist.artist)\n",
    "        artists_to_save.append(artist)\n",
    "\n",
    "    genre = get_genre_from_line(line)\n",
    "\n",
    "    if genre.genre not in genres:\n",
    "        genres.add(genre.genre)\n",
    "        genres_to_save.append(genre)\n",
    "\n",
    "    subgenre = get_subgenre_from_line(line)\n",
    "\n",
    "    if subgenre.genre not in genres:\n",
    "        genres.add(subgenre.genre)\n",
    "        genres_to_save.append(subgenre)\n",
    "\n",
    "    playlist = get_playlist_from_line(line)\n",
    "\n",
    "    if playlist.playlist_id not in playlists:\n",
    "        playlists.add(playlist.playlist_id)\n",
    "        playlists_to_save.append(playlist)\n",
    "\n",
    "    track = get_track_from_line(line)\n",
    "\n",
    "    if track.track_id not in tracks:\n",
    "        tracks.add(track.track_id)\n",
    "        tracks_to_save.append(track)"
   ]
  },
  {
   "cell_type": "code",
   "execution_count": 92,
   "metadata": {},
   "outputs": [],
   "source": [
    "INSERT_ARTIST = \"\"\"INSERT INTO Songs.Artist (artist_name) VALUES (%s)\"\"\"\n",
    "INSERT_ALBUM = \"\"\"INSERT INTO Songs.Album (album_id, album_name, album_release_date) VALUES (%s, %s, %s)\"\"\"\n",
    "INSERT_GENRE = \"\"\"INSERT INTO Songs.Genre (genre_name) VALUES (%s)\"\"\"\n",
    "INSERT_PLAYLIST = \"\"\"INSERT INTO Songs.Playlist (playlist_id, playlist_name, playlist_genre, playlist_subgenre) VALUES (%s,%s,%s,%s)\"\"\"\n",
    "INSERT_TRACK = \"\"\"INSERT INTO Songs.Track (track_id, track_name, track_artist, track_popularity, track_album_id, playlist_id, danceability, \\\n",
    "energy, key, loudness, mode, speechiness, acousticness, instrumentalness, liveness, valence, tempo, duration_ms) \\\n",
    "VALUES (%s,%s,%s,%s,%s,%s,%s,%s,%s,%s,%s,%s,%s,%s,%s,%s,%s,%s) \"\"\"\n"
   ]
  },
  {
   "cell_type": "code",
   "execution_count": 93,
   "metadata": {},
   "outputs": [],
   "source": [
    "for i in artists_to_save:\n",
    "    cursor.execute(INSERT_ARTIST, [i.artist])\n",
    "\n",
    "for i in albums_to_save:\n",
    "    cursor.execute(INSERT_ALBUM, [i.album_id, i.album_name, i.album_release_date])\n",
    "\n",
    "for i in genres_to_save:\n",
    "    cursor.execute(INSERT_GENRE, [i.genre])\n",
    "\n",
    "for i in playlists_to_save:\n",
    "    cursor.execute(INSERT_PLAYLIST, [i.playlist_id, i.playlist_name, i.playlist_genre.genre, i.playlist_subgenre.genre])\n",
    "\n",
    "for i in tracks_to_save:\n",
    "    cursor.execute(INSERT_TRACK, [i.track_id, i.track_name, i.artist.artist, i.track_popularity, i.album.album_id, i.playlist.playlist_id, i.danceability, \\\n",
    "i.energy, i.key, i.loudness, i.mode, i.speechiness, i.acousticness, i.instrumentalness, i.liveness, i.valence, i.tempo, i.duration_ms])\n"
   ]
  },
  {
   "cell_type": "code",
   "execution_count": 94,
   "metadata": {},
   "outputs": [
    {
     "name": "stdout",
     "output_type": "stream",
     "text": [
      "('6f807x0ima9a1j3VPbc7VN', \"I Don't Care (with Justin Bieber) - Loud Luxury Remix\", 'Ed Sheeran', Decimal('66'), '2oCs0DGTsRO98Gh5ZSl2Cx', 'Pop Remix', Decimal('0.748'), Decimal('0.916'), Decimal('6'), Decimal('-2.634'), Decimal('1'), Decimal('0.0583'), Decimal('0.102'), '0', Decimal('0.0653'), Decimal('0.518'), Decimal('122.036'), Decimal('194754'))\n",
      "('0r7CVbZTWZgbTCYdfa2P31', 'Memories - Dillon Francis Remix', 'Maroon 5', Decimal('67'), '63rPSO264uRjW1X5E6cWv6', 'Pop Remix', Decimal('0.726'), Decimal('0.815'), Decimal('11'), Decimal('-4.969'), Decimal('1'), Decimal('0.0373'), Decimal('0.0724'), '0.00421', Decimal('0.357'), Decimal('0.693'), Decimal('99.972'), Decimal('162600'))\n",
      "('1z1Hg7Vb0AhHDiEmnDE79l', 'All the Time - Don Diablo Remix', 'Zara Larsson', Decimal('70'), '1HoSmj2eLcsrR0vE9gThr4', 'Pop Remix', Decimal('0.675'), Decimal('0.931'), Decimal('1'), Decimal('-3.432'), Decimal('0'), Decimal('0.0742'), Decimal('0.0794'), '2.33e-5', Decimal('0.11'), Decimal('0.613'), Decimal('124.008'), Decimal('176616'))\n",
      "('75FpbthrwQmzHlBJLuGdC7', 'Call You Mine - Keanu Silva Remix', 'The Chainsmokers', Decimal('60'), '1nqYsOef1yKKuGOVchbsk6', 'Pop Remix', Decimal('0.718'), Decimal('0.93'), Decimal('7'), Decimal('-3.778'), Decimal('1'), Decimal('0.102'), Decimal('0.0287'), '9.43e-6', Decimal('0.204'), Decimal('0.277'), Decimal('121.956'), Decimal('169093'))\n",
      "('1e8PAfcKUYoKkxPhrHqw4x', 'Someone You Loved - Future Humans Remix', 'Lewis Capaldi', Decimal('69'), '7m7vv9wlQ4i0LFuJiE2zsQ', 'Pop Remix', Decimal('0.65'), Decimal('0.833'), Decimal('1'), Decimal('-4.672'), Decimal('1'), Decimal('0.0359'), Decimal('0.0803'), '0', Decimal('0.0833'), Decimal('0.725'), Decimal('123.976'), Decimal('189052'))\n",
      "('7fvUMiyapMsRRxr07cU8Ef', 'Beautiful People (feat. Khalid) - Jack Wins Remix', 'Ed Sheeran', Decimal('67'), '2yiy9cd2QktrNvWC2EUi0k', 'Pop Remix', Decimal('0.675'), Decimal('0.919'), Decimal('8'), Decimal('-5.385'), Decimal('1'), Decimal('0.127'), Decimal('0.0799'), '0', Decimal('0.143'), Decimal('0.585'), Decimal('124.982'), Decimal('163049'))\n",
      "('2OAylPUDDfwRGfe0lYqlCQ', 'Never Really Over - R3HAB Remix', 'Katy Perry', Decimal('62'), '7INHYSeusaFlyrHSNxm8qH', 'Pop Remix', Decimal('0.449'), Decimal('0.856'), Decimal('5'), Decimal('-4.788'), Decimal('0'), Decimal('0.0623'), Decimal('0.187'), '0', Decimal('0.176'), Decimal('0.152'), Decimal('112.648'), Decimal('187675'))\n",
      "('6b1RNvAcJjQH73eZO4BLAB', 'Post Malone (feat. RANI) - GATTÜSO Remix', 'Sam Feldt', Decimal('69'), '6703SRPsLkS4bPtMFFJes1', 'Pop Remix', Decimal('0.542'), Decimal('0.903'), Decimal('4'), Decimal('-2.419'), Decimal('0'), Decimal('0.0434'), Decimal('0.0335'), '4.83e-6', Decimal('0.111'), Decimal('0.367'), Decimal('127.936'), Decimal('207619'))\n",
      "('7bF6tCO3gFb8INrEDcjNT5', 'Tough Love - Tiësto Remix / Radio Edit', 'Avicii', Decimal('68'), '7CvAfGvq4RlIwEbT9o8Iav', 'Pop Remix', Decimal('0.594'), Decimal('0.935'), Decimal('8'), Decimal('-3.562'), Decimal('1'), Decimal('0.0565'), Decimal('0.0249'), '3.97e-6', Decimal('0.637'), Decimal('0.366'), Decimal('127.015'), Decimal('193187'))\n"
     ]
    }
   ],
   "source": [
    "cursor.execute(\"SELECT * FROM SONGS.Track\")\n",
    "\n",
    "for i in cursor.fetchall():\n",
    "    print(i)"
   ]
  },
  {
   "cell_type": "markdown",
   "metadata": {},
   "source": [
    "# Refined"
   ]
  },
  {
   "cell_type": "code",
   "execution_count": null,
   "metadata": {},
   "outputs": [],
   "source": [
    "with open(\"refined_schema.sql\", encoding=\"utf-8\", mode=\"r\") as schema:\n",
    "    cursor.execute(schema.read())\n",
    "    connection.commit()"
   ]
  }
 ],
 "metadata": {
  "kernelspec": {
   "display_name": "Python 3",
   "language": "python",
   "name": "python3"
  },
  "language_info": {
   "codemirror_mode": {
    "name": "ipython",
    "version": 3
   },
   "file_extension": ".py",
   "mimetype": "text/x-python",
   "name": "python",
   "nbconvert_exporter": "python",
   "pygments_lexer": "ipython3",
   "version": "3.11.0"
  },
  "orig_nbformat": 4
 },
 "nbformat": 4,
 "nbformat_minor": 2
}
