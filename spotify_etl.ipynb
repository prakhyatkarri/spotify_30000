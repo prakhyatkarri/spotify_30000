{
 "cells": [
  {
   "cell_type": "markdown",
   "metadata": {},
   "source": [
    "Header\n",
    "track_id,track_name,track_artist,track_popularity,track_album_id,track_album_name,track_album_release_date,playlist_name,playlist_id,playlist_genre,playlist_subgenre,danceability,energy,key,loudness,mode,speechiness,acousticness,instrumentalness,liveness,valence,tempo,duration_ms\n"
   ]
  },
  {
   "cell_type": "code",
   "execution_count": 301,
   "metadata": {},
   "outputs": [],
   "source": [
    "CREATE_SCHEMA = \"CREATE SCHEMA Songs;\""
   ]
  },
  {
   "cell_type": "code",
   "execution_count": 302,
   "metadata": {},
   "outputs": [],
   "source": [
    "CREATE_TABLE_ARTIST = \"CREATE TABLE Songs.Artist ( \\\n",
    "    artist_name varchar(100) not null, \\\n",
    "    PRIMARY KEY (artist_name) \\\n",
    ");\"\n",
    "\n",
    "CREATE_TABLE_ALBUM = \"CREATE TABLE Songs.Album ( \\\n",
    "    album_id varchar(30) not null, \\\n",
    "    album_name varchar(100) not null, \\\n",
    "    album_release_date date, \\\n",
    "    PRIMARY KEY (album_id) \\\n",
    ");\"\n",
    "\n",
    "CREATE_TABLE_GENRE = \"CREATE TABLE Songs.Genre ( \\\n",
    "    genre_name varchar(30) not null, \\\n",
    "    PRIMARY KEY (genre_name) \\\n",
    ");\"\n",
    "\n",
    "CREATE_TABLE_PLAYLIST = \"CREATE TABLE Songs.Playlist ( \\\n",
    "    playlist_id varchar(30) not null, \\\n",
    "    playlist_name varchar(100) not null, \\\n",
    "    playlist_genre varchar(30) not null, \\\n",
    "    playlist_subgenre varchar(30) not null, \\\n",
    "    PRIMARY KEY (playlist_id), \\\n",
    "    CONSTRAINT FK_Track_Genre FOREIGN KEY (playlist_genre) REFERENCES Songs.Genre (genre_name), \\\n",
    "    CONSTRAINT FK_Track_SubGenre FOREIGN KEY (playlist_subgenre) REFERENCES Songs.Genre (genre_name) \\\n",
    ");\"\n",
    "\n",
    "CREATE_TABLE_TRACK = \"CREATE TABLE Songs.Track ( \\\n",
    "    track_id varchar(30) not null, \\\n",
    "    track_name varchar(100) not null, \\\n",
    "    track_artist varchar(100) not null, \\\n",
    "    track_popularity decimal(2), \\\n",
    "    track_album_id varchar(30), \\\n",
    "    playlist_id varchar(30), \\\n",
    "    danceability decimal(2,3), \\\n",
    "    energy decimal(2,3), \\\n",
    "    key decimal(2), \\\n",
    "    loudness decimal(2,4), \\\n",
    "    mode numeric(1), \\\n",
    "    speechiness decimal(2,5), \\\n",
    "    acousticness decimal(2,5), \\\n",
    "    instrumentalness varchar(10), \\\n",
    "    liveness decimal(2,5), \\\n",
    "    valence decimal(2,4), \\\n",
    "    tempo decimal(3,4), \\\n",
    "    duration_ms numeric(10), \\\n",
    "    PRIMARY KEY (track_id), \\\n",
    "    CONSTRAINT FK_Track_Artist FOREIGN KEY (track_artist) REFERENCES Songs.Artist (artist_name), \\\n",
    "    CONSTRAINT FK_Track_AlbumID FOREIGN KEY (track_album_id) REFERENCES Songs.Album (album_id), \\\n",
    "    CONSTRAINT FK_Track_PlaylistID FOREIGN KEY (playlist_id) REFERENCES Songs.Playlist (playlist_id) \\\n",
    ");\""
   ]
  },
  {
   "cell_type": "code",
   "execution_count": 303,
   "metadata": {},
   "outputs": [
    {
     "name": "stdout",
     "output_type": "stream",
     "text": [
      "Requirement already satisfied: psycopg2 in c:\\users\\prakh\\appdata\\local\\programs\\python\\python311\\lib\\site-packages (2.9.9)\n",
      "Note: you may need to restart the kernel to use updated packages.\n"
     ]
    },
    {
     "name": "stderr",
     "output_type": "stream",
     "text": [
      "\n",
      "[notice] A new release of pip available: 22.3 -> 23.3.1\n",
      "[notice] To update, run: python.exe -m pip install --upgrade pip\n"
     ]
    }
   ],
   "source": [
    "pip install psycopg2"
   ]
  },
  {
   "cell_type": "code",
   "execution_count": 304,
   "metadata": {},
   "outputs": [
    {
     "name": "stdout",
     "output_type": "stream",
     "text": [
      "Connection Successful !!\n"
     ]
    }
   ],
   "source": [
    "from psycopg2 import connect\n",
    "\n",
    "HOST = 'localhost' # since postgres runs on local workspace in Docker\n",
    "USERNAME = \"postgres\"\n",
    "PASSWORD = \"postgres\"\n",
    "DATABASE = 'postgres'\n",
    "CONNECTION_STRING = f\"dbname='{DATABASE}' host='{HOST}' user='{USERNAME}' password='{PASSWORD}'\"\n",
    " \n",
    "connection = connect(CONNECTION_STRING)\n",
    "\n",
    "if connection is not None and connection.status == 1:\n",
    "    print('Connection Successful !!')\n",
    "else:\n",
    "    print(\"Connection Failed (X)\")\n",
    "\n",
    "cursor = connection.cursor() # we will use cursor for all DB operations"
   ]
  },
  {
   "cell_type": "code",
   "execution_count": 305,
   "metadata": {},
   "outputs": [],
   "source": [
    "with open(\"raw_schema.sql\", encoding=\"utf-8\", mode=\"r\") as raw_schema:\n",
    "    cursor.execute(raw_schema.read())\n",
    "    connection.commit()"
   ]
  },
  {
   "cell_type": "code",
   "execution_count": 306,
   "metadata": {},
   "outputs": [
    {
     "data": {
      "text/plain": [
       "['track_id',\n",
       " 'track_name',\n",
       " 'track_artist',\n",
       " 'track_popularity',\n",
       " 'track_album_id',\n",
       " 'track_album_name',\n",
       " 'track_album_release_date',\n",
       " 'playlist_name',\n",
       " 'playlist_id',\n",
       " 'playlist_genre',\n",
       " 'playlist_subgenre',\n",
       " 'danceability',\n",
       " 'energy',\n",
       " 'key',\n",
       " 'loudness',\n",
       " 'mode',\n",
       " 'speechiness',\n",
       " 'acousticness',\n",
       " 'instrumentalness',\n",
       " 'liveness',\n",
       " 'valence',\n",
       " 'tempo',\n",
       " 'duration_ms']"
      ]
     },
     "execution_count": 306,
     "metadata": {},
     "output_type": "execute_result"
    }
   ],
   "source": [
    "import csv\n",
    "\n",
    "file_path = \"spotify_songs.csv\"\n",
    "lines = []\n",
    "\n",
    "with open (file_path, encoding=\"utf-8\", mode=\"r\") as csvfile:\n",
    "    csvreader = csv.reader(csvfile, delimiter=\",\", quotechar=\"\\\"\")\n",
    "\n",
    "    for line in csvreader:\n",
    "        lines.append(line)\n",
    "\n",
    "lines.pop(0) # Removing header\n"
   ]
  },
  {
   "cell_type": "code",
   "execution_count": null,
   "metadata": {},
   "outputs": [],
   "source": []
  },
  {
   "cell_type": "code",
   "execution_count": null,
   "metadata": {},
   "outputs": [],
   "source": []
  },
  {
   "cell_type": "code",
   "execution_count": 307,
   "metadata": {},
   "outputs": [],
   "source": [
    "class Album:\n",
    "    album_id: str\n",
    "    album_name: str\n",
    "    album_release_date: str\n",
    "\n",
    "    def __init__(self, id, name=None, release_date:str=None):\n",
    "        self.album_id = id\n",
    "        self.album_name = name\n",
    "\n",
    "        if len(release_date) == 4:\n",
    "            release_date = f\"{release_date}-01-01\"\n",
    "\n",
    "        if len(release_date) == 7:\n",
    "            release_date = f\"{release_date}-01\"\n",
    "            \n",
    "        self.album_release_date = release_date\n",
    "\n",
    "class Artist:\n",
    "    artist: str\n",
    "\n",
    "    def __init__(self, artist):\n",
    "        self.artist = artist\n",
    "        \n",
    "\n",
    "class Genre:\n",
    "    genre: str\n",
    "\n",
    "    def __init__(self, genre):\n",
    "        self.genre = genre\n",
    "    \n",
    "\n",
    "class Playlist:\n",
    "    playlist_id: str\n",
    "    playlist_name: str\n",
    "    playlist_genre: Genre\n",
    "    playlist_subgenre: Genre\n",
    "\n",
    "    def __init__(self, id, name = None, genre = None, subgenre = None):\n",
    "        self.playlist_id = id\n",
    "        self.playlist_name = name\n",
    "        self.playlist_genre = genre\n",
    "        self.playlist_subgenre = subgenre\n",
    "    \n",
    "class Track:\n",
    "    track_id: str\n",
    "    track_name: str\n",
    "    track_popularity: str\n",
    "    danceability: str\n",
    "    energy: str\n",
    "    key: str\n",
    "    loudness: str\n",
    "    mode: str\n",
    "    speechiness: str\n",
    "    acousticness: str\n",
    "    instrumentalness: str\n",
    "    liveness: str\n",
    "    valence: str\n",
    "    tempo: str\n",
    "    duration_ms: str\n",
    "    album: Album\n",
    "    artist: Artist\n",
    "    playlist: Playlist\n",
    "\n",
    "    def __init__(self, id, name=None, popularity = None, danceability = None, energy = None, key= None, loudness = None, \\\n",
    "                 mode = None, speechiness = None,  acousticness=None, instrumentalness=None, \\\n",
    "                    liveness=None, valence=None, tempo=None, duration_ms=None,  album=None, artist = None, playlist = None):\n",
    "        self.track_id = id\n",
    "        self.track_name = name\n",
    "        self.track_popularity = popularity\n",
    "        self.danceability = danceability\n",
    "        self.energy = energy\n",
    "        self.key = key\n",
    "        self.loudness = loudness\n",
    "        self.mode = mode\n",
    "        self.speechiness = speechiness\n",
    "        self.acousticness = acousticness\n",
    "        self.instrumentalness = instrumentalness\n",
    "        self.liveness = liveness\n",
    "        self.valence = valence\n",
    "        self.tempo = tempo\n",
    "        self.duration_ms = duration_ms\n",
    "\n",
    "    def set_album(self, album:Album):\n",
    "        self.album = album\n",
    "\n",
    "    \n",
    "    def set_artist(self, artist:Artist):\n",
    "        self.artist = artist\n",
    "\n",
    "    \n",
    "    def set_playlist(self, playlist:Playlist):\n",
    "        self.playlist = playlist\n"
   ]
  },
  {
   "cell_type": "code",
   "execution_count": 308,
   "metadata": {},
   "outputs": [],
   "source": [
    "def get_album_from_line(row):\n",
    "    # row = line.split(',')\n",
    "    return Album(row[4], row[5], row[6])\n",
    "\n",
    "\n",
    "def get_artist_from_line(row):\n",
    "    # row = line.split(',')\n",
    "    return Artist(row[2])\n",
    "\n",
    "\n",
    "def get_genre_from_line(row):\n",
    "    # row = line.split(',')\n",
    "    return Genre(row[9])\n",
    "\n",
    "\n",
    "def get_subgenre_from_line(row):\n",
    "    # row = line.split(',')\n",
    "    return Genre(row[10])\n",
    "\n",
    "\n",
    "\n",
    "def get_playlist_from_line(row):\n",
    "    # row = line.split(',')\n",
    "    return Playlist(id=row[7], name=row[8], genre=get_genre_from_line(line), subgenre=get_subgenre_from_line(line))\n",
    "\n",
    "\n",
    "def get_track_from_line(row):\n",
    "    # row = line.split(',')\n",
    "    track = Track(id=row[0], name=row[1], popularity=row[3], danceability=row[11], energy=row[12], key = row[13], loudness=row[14], \\\n",
    "                 mode=row[15], speechiness=row[16], acousticness=row[17], instrumentalness=row[18], \\\n",
    "                    liveness=row[19], valence=row[20], tempo=row[21], duration_ms=row[22] )\n",
    "    track.set_album(get_album_from_line(line))\n",
    "    track.set_artist(get_artist_from_line(line))\n",
    "    track.set_playlist(get_playlist_from_line(line))\n",
    "    return track\n"
   ]
  },
  {
   "cell_type": "code",
   "execution_count": 309,
   "metadata": {},
   "outputs": [],
   "source": [
    "albums = set()\n",
    "artists = set()\n",
    "genres = set()\n",
    "playlists = set()\n",
    "tracks = set()\n",
    "albums_to_save = []\n",
    "artists_to_save = []\n",
    "genres_to_save = []\n",
    "playlists_to_save = []\n",
    "tracks_to_save = []\n",
    "\n",
    "\n",
    "for line in lines:\n",
    "    album = get_album_from_line(line)\n",
    "\n",
    "    if album.album_id not in albums:\n",
    "        albums.add(album.album_id)\n",
    "        albums_to_save.append(album)\n",
    "\n",
    "    artist = get_artist_from_line(line)\n",
    "\n",
    "    if artist.artist not in artists:\n",
    "        artists.add(artist.artist)\n",
    "        artists_to_save.append(artist)\n",
    "\n",
    "    genre = get_genre_from_line(line)\n",
    "\n",
    "    if genre.genre not in genres:\n",
    "        genres.add(genre.genre)\n",
    "        genres_to_save.append(genre)\n",
    "\n",
    "    subgenre = get_subgenre_from_line(line)\n",
    "\n",
    "    if subgenre.genre not in genres:\n",
    "        genres.add(subgenre.genre)\n",
    "        genres_to_save.append(subgenre)\n",
    "\n",
    "    playlist = get_playlist_from_line(line)\n",
    "\n",
    "    if playlist.playlist_id not in playlists:\n",
    "        playlists.add(playlist.playlist_id)\n",
    "        playlists_to_save.append(playlist)\n",
    "\n",
    "    track = get_track_from_line(line)\n",
    "\n",
    "    if track.track_id not in tracks:\n",
    "        tracks.add(track.track_id)\n",
    "        tracks_to_save.append(track)"
   ]
  },
  {
   "cell_type": "code",
   "execution_count": 310,
   "metadata": {},
   "outputs": [],
   "source": [
    "INSERT_ARTIST = \"\"\"INSERT INTO Raw.Artist (artist_name) VALUES (%s)\"\"\"\n",
    "INSERT_ALBUM = \"\"\"INSERT INTO Raw.Album (album_id, album_name, album_release_date) VALUES (%s, %s, %s)\"\"\"\n",
    "INSERT_GENRE = \"\"\"INSERT INTO Raw.Genre (genre_name) VALUES (%s)\"\"\"\n",
    "INSERT_PLAYLIST = \"\"\"INSERT INTO Raw.Playlist (playlist_id, playlist_name, playlist_genre, playlist_subgenre) VALUES (%s,%s,%s,%s)\"\"\"\n",
    "INSERT_TRACK = \"\"\"INSERT INTO Raw.Track (track_id, track_name, track_artist, track_popularity, track_album_id, playlist_id, danceability, \\\n",
    "energy, key, loudness, mode, speechiness, acousticness, instrumentalness, liveness, valence, tempo, duration_ms) \\\n",
    "VALUES (%s,%s,%s,%s,%s,%s,%s,%s,%s,%s,%s,%s,%s,%s,%s,%s,%s,%s) \"\"\"\n"
   ]
  },
  {
   "cell_type": "code",
   "execution_count": 311,
   "metadata": {},
   "outputs": [
    {
     "ename": "InvalidDatetimeFormat",
     "evalue": "invalid input syntax for type date: \"1981-12\"\nLINE 1: ...0lI', 'Non Stop Erotic Cabaret (Deluxe Edition)', '1981-12')\n                                                             ^\n",
     "output_type": "error",
     "traceback": [
      "\u001b[1;31m---------------------------------------------------------------------------\u001b[0m",
      "\u001b[1;31mInvalidDatetimeFormat\u001b[0m                     Traceback (most recent call last)",
      "\u001b[1;32mk:\\git\\spotify_30000\\spotify_etl.ipynb Cell 14\u001b[0m line \u001b[0;36m5\n\u001b[0;32m      <a href='vscode-notebook-cell:/k%3A/git/spotify_30000/spotify_etl.ipynb#X14sZmlsZQ%3D%3D?line=1'>2</a>\u001b[0m     cursor\u001b[39m.\u001b[39mexecute(INSERT_ARTIST, [i\u001b[39m.\u001b[39martist])\n\u001b[0;32m      <a href='vscode-notebook-cell:/k%3A/git/spotify_30000/spotify_etl.ipynb#X14sZmlsZQ%3D%3D?line=3'>4</a>\u001b[0m \u001b[39mfor\u001b[39;00m i \u001b[39min\u001b[39;00m albums_to_save:\n\u001b[1;32m----> <a href='vscode-notebook-cell:/k%3A/git/spotify_30000/spotify_etl.ipynb#X14sZmlsZQ%3D%3D?line=4'>5</a>\u001b[0m     cursor\u001b[39m.\u001b[39;49mexecute(INSERT_ALBUM, [i\u001b[39m.\u001b[39;49malbum_id, i\u001b[39m.\u001b[39;49malbum_name, i\u001b[39m.\u001b[39;49malbum_release_date])\n\u001b[0;32m      <a href='vscode-notebook-cell:/k%3A/git/spotify_30000/spotify_etl.ipynb#X14sZmlsZQ%3D%3D?line=6'>7</a>\u001b[0m \u001b[39mfor\u001b[39;00m i \u001b[39min\u001b[39;00m genres_to_save:\n\u001b[0;32m      <a href='vscode-notebook-cell:/k%3A/git/spotify_30000/spotify_etl.ipynb#X14sZmlsZQ%3D%3D?line=7'>8</a>\u001b[0m     cursor\u001b[39m.\u001b[39mexecute(INSERT_GENRE, [i\u001b[39m.\u001b[39mgenre])\n",
      "\u001b[1;31mInvalidDatetimeFormat\u001b[0m: invalid input syntax for type date: \"1981-12\"\nLINE 1: ...0lI', 'Non Stop Erotic Cabaret (Deluxe Edition)', '1981-12')\n                                                             ^\n"
     ]
    }
   ],
   "source": [
    "for i in artists_to_save:\n",
    "    cursor.execute(INSERT_ARTIST, [i.artist])\n",
    "\n",
    "for i in albums_to_save:\n",
    "    cursor.execute(INSERT_ALBUM, [i.album_id, i.album_name, i.album_release_date])\n",
    "\n",
    "for i in genres_to_save:\n",
    "    cursor.execute(INSERT_GENRE, [i.genre])\n",
    "\n",
    "for i in playlists_to_save:\n",
    "    cursor.execute(INSERT_PLAYLIST, [i.playlist_id, i.playlist_name, i.playlist_genre.genre, i.playlist_subgenre.genre])\n",
    "\n",
    "for i in tracks_to_save:\n",
    "    cursor.execute(INSERT_TRACK, [i.track_id, i.track_name, i.artist.artist, i.track_popularity, i.album.album_id, i.playlist.playlist_id, i.danceability, \\\n",
    "i.energy, i.key, i.loudness, i.mode, i.speechiness, i.acousticness, i.instrumentalness, i.liveness, i.valence, i.tempo, i.duration_ms])\n"
   ]
  },
  {
   "cell_type": "markdown",
   "metadata": {},
   "source": [
    "### Some of the most frequently asked questions\n",
    "- What are 10 most popular songs in last 6 months ?\n",
    "- Who are the 5 most popular artists in last 1 year ?\n",
    "- How many albums got released in last 6 months ?\n",
    "- Top 10 longest songs ever ?\n",
    "- Top 7 Dance tunes of the year ?"
   ]
  },
  {
   "cell_type": "code",
   "execution_count": null,
   "metadata": {},
   "outputs": [],
   "source": [
    "with open(\"refined_schema.sql\", encoding=\"utf-8\", mode=\"r\") as refined_schema:\n",
    "    cursor.execute(refined_schema.read())\n",
    "    connection.commit()"
   ]
  },
  {
   "cell_type": "code",
   "execution_count": null,
   "metadata": {},
   "outputs": [],
   "source": [
    "with open(\"etl_raw_to_refined.sql\", encoding=\"utf-8\", mode=\"r\") as etl:\n",
    "    cursor.execute(etl.read())\n",
    "    connection.commit()"
   ]
  }
 ],
 "metadata": {
  "kernelspec": {
   "display_name": "Python 3",
   "language": "python",
   "name": "python3"
  },
  "language_info": {
   "codemirror_mode": {
    "name": "ipython",
    "version": 3
   },
   "file_extension": ".py",
   "mimetype": "text/x-python",
   "name": "python",
   "nbconvert_exporter": "python",
   "pygments_lexer": "ipython3",
   "version": "3.11.0"
  },
  "orig_nbformat": 4
 },
 "nbformat": 4,
 "nbformat_minor": 2
}
